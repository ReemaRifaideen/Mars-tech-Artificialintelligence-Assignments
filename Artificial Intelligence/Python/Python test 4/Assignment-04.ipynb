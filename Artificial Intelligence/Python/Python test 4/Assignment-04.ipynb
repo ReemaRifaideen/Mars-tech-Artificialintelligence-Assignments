{
 "cells": [
  {
   "cell_type": "code",
   "execution_count": 2,
   "id": "df7e5f80-9558-47f3-aba0-5be5b41ede0f",
   "metadata": {},
   "outputs": [
    {
     "name": "stdin",
     "output_type": "stream",
     "text": [
      "Enter a number 10\n"
     ]
    },
    {
     "name": "stdout",
     "output_type": "stream",
     "text": [
      "CORRECT\n"
     ]
    }
   ],
   "source": [
    "i=int(input(\"Enter a number\"))\n",
    "if(i==10):\n",
    "    print(\"CORRECT\")\n",
    "else:\n",
    "    print(\"INCORECT\")"
   ]
  },
  {
   "cell_type": "code",
   "execution_count": 3,
   "id": "1f3df845-c997-4f3c-b8ac-99d4a0358c7b",
   "metadata": {},
   "outputs": [
    {
     "name": "stdin",
     "output_type": "stream",
     "text": [
      "Enter the password: marstech@123\n"
     ]
    },
    {
     "name": "stdout",
     "output_type": "stream",
     "text": [
      "Your password is correct\n"
     ]
    }
   ],
   "source": [
    "passwd=\"marstech@123\"\n",
    "passwd=str(input(\"Enter the password:\"))\n",
    "if(passwd==\"marstech@123\"):\n",
    "    print(\"Your password is correct\")\n",
    "else:\n",
    "    print(\"Incorrect password,Try again\")"
   ]
  },
  {
   "cell_type": "code",
   "execution_count": 5,
   "id": "47888044-cc7a-41a2-9435-126f78d5976f",
   "metadata": {},
   "outputs": [
    {
     "name": "stdin",
     "output_type": "stream",
     "text": [
      "Enter your age:  20\n"
     ]
    },
    {
     "name": "stdout",
     "output_type": "stream",
     "text": [
      "Adult\n"
     ]
    }
   ],
   "source": [
    "age = int(input(\"Enter your age: \"))\n",
    "if(age<18):\n",
    "    print(\"Children\")\n",
    "elif(18<=age and age<=20):\n",
    "    print(\"Adult\")\n",
    "elif(45>=age and age>=20):\n",
    "    print(\"Citizen\")\n",
    "else:\n",
    "    print(\"Senior citizen\")"
   ]
  },
  {
   "cell_type": "code",
   "execution_count": 9,
   "id": "de400cbe-4672-4168-a8c4-e538d64f1294",
   "metadata": {},
   "outputs": [
    {
     "name": "stdin",
     "output_type": "stream",
     "text": [
      "Enter any number: 1\n"
     ]
    },
    {
     "name": "stdout",
     "output_type": "stream",
     "text": [
      "No is Positive\n"
     ]
    }
   ],
   "source": [
    "no = int(input(\"Enter any number:\"))\n",
    "if(no>0):\n",
    "    print(\"No is Positive\")\n",
    "elif(no<0):\n",
    "    print(\"No is Negative\")\n",
    "else:\n",
    "    print(\"Neural Number\")"
   ]
  },
  {
   "cell_type": "code",
   "execution_count": 10,
   "id": "5c74c0ba-c93e-48d4-8765-96a2e13cdf75",
   "metadata": {},
   "outputs": [
    {
     "name": "stdin",
     "output_type": "stream",
     "text": [
      "Enter a number to check : 22\n"
     ]
    },
    {
     "name": "stdout",
     "output_type": "stream",
     "text": [
      "No is not divisible by 5\n"
     ]
    }
   ],
   "source": [
    "num=float(input(\"Enter a number to check :\"))\n",
    "if(num%5==0):\n",
    "    print(\"No is divisible by 5\")\n",
    "else:\n",
    "    print(\"No is not divisible by 5\")"
   ]
  },
  {
   "cell_type": "code",
   "execution_count": null,
   "id": "9d9353fb-9797-487c-aa76-43e1575bf030",
   "metadata": {},
   "outputs": [],
   "source": []
  }
 ],
 "metadata": {
  "kernelspec": {
   "display_name": "Python 3 (ipykernel)",
   "language": "python",
   "name": "python3"
  },
  "language_info": {
   "codemirror_mode": {
    "name": "ipython",
    "version": 3
   },
   "file_extension": ".py",
   "mimetype": "text/x-python",
   "name": "python",
   "nbconvert_exporter": "python",
   "pygments_lexer": "ipython3",
   "version": "3.12.7"
  }
 },
 "nbformat": 4,
 "nbformat_minor": 5
}
