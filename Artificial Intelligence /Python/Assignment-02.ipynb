{
 "cells": [
  {
   "cell_type": "code",
   "execution_count": 1,
   "id": "2635982e-ef63-4e37-85a2-d45de44a2474",
   "metadata": {},
   "outputs": [
    {
     "name": "stdout",
     "output_type": "stream",
     "text": [
      "Mars Tech\n"
     ]
    }
   ],
   "source": [
    "print(\"Mars Tech\")"
   ]
  },
  {
   "cell_type": "code",
   "execution_count": 2,
   "id": "035cd2b2-7d1d-40a1-bf24-a1dd22f2e4d4",
   "metadata": {},
   "outputs": [
    {
     "name": "stdin",
     "output_type": "stream",
     "text": [
      "Enter your institute name?: Mars Tech\n"
     ]
    }
   ],
   "source": [
    "x =(input(\"Enter your institute name?:\"))"
   ]
  },
  {
   "cell_type": "code",
   "execution_count": 3,
   "id": "01a73fce-4542-42f7-adf1-656c5507481c",
   "metadata": {},
   "outputs": [
    {
     "name": "stdin",
     "output_type": "stream",
     "text": [
      "Enter your name?: Raj\n",
      "Enter your age?: 15\n",
      "Enter your school name?: Guru school\n",
      "Enter your degree?: B.E CSE\n"
     ]
    }
   ],
   "source": [
    "r=(input(\"Enter your name?:\"));w=(input(\"Enter your age?:\"));x=(input(\"Enter your school name?:\"));z=(input(\"Enter your degree?:\"))"
   ]
  },
  {
   "cell_type": "code",
   "execution_count": 4,
   "id": "bf2b9c55-5a30-443c-8135-d8eea84d5e1d",
   "metadata": {},
   "outputs": [
    {
     "name": "stdout",
     "output_type": "stream",
     "text": [
      "a= 43\n",
      "b= 34\n",
      "add= 77\n"
     ]
    }
   ],
   "source": [
    "a =43 ; b =34 ;print(\"a=\",a) ;print(\"b=\",b) ;Add = a + b; print(\"add=\",Add)"
   ]
  },
  {
   "cell_type": "code",
   "execution_count": 5,
   "id": "bd252ae6-fb9e-482b-a1e5-e2217267a263",
   "metadata": {},
   "outputs": [
    {
     "name": "stdout",
     "output_type": "stream",
     "text": [
      "a= 43\n",
      "b= 34\n",
      "sub= 9\n"
     ]
    }
   ],
   "source": [
    "a =43 ; b =34 ;print(\"a=\",a) ;print(\"b=\",b) ;sub = a - b ;print(\"sub=\",sub)"
   ]
  },
  {
   "cell_type": "code",
   "execution_count": 6,
   "id": "8adad4b0-18f5-4903-ab06-4ee5d049e48b",
   "metadata": {},
   "outputs": [
    {
     "name": "stdout",
     "output_type": "stream",
     "text": [
      "a= 63\n",
      "b= 97\n",
      "Mul= 6111\n"
     ]
    }
   ],
   "source": [
    "a =63 ; b =97 ;print(\"a=\",a) ;print(\"b=\",b) ;Mul = a * b ;print(\"Mul=\",Mul)"
   ]
  },
  {
   "cell_type": "code",
   "execution_count": 7,
   "id": "3ad2e504-6070-4347-9748-760daa76a70b",
   "metadata": {},
   "outputs": [
    {
     "name": "stdout",
     "output_type": "stream",
     "text": [
      "a= 76\n",
      "b= 31\n",
      "Float Div= 2.4516129032258065\n"
     ]
    }
   ],
   "source": [
    "a =76 ; b =31 ;print(\"a=\",a) ;print(\"b=\",b) ;Float  = a / b ;print(\"Float Div=\",Float)"
   ]
  },
  {
   "cell_type": "code",
   "execution_count": 8,
   "id": "05714129-c210-4165-86af-7d5e07ba6372",
   "metadata": {},
   "outputs": [
    {
     "name": "stdout",
     "output_type": "stream",
     "text": [
      "a= 76\n",
      "b= 31\n",
      "Floor Div= 2\n"
     ]
    }
   ],
   "source": [
    "a =76 ; b =31 ;print(\"a=\",a) ;print(\"b=\",b) ;Floor  = a // b ;print(\"Floor Div=\",Floor)"
   ]
  },
  {
   "cell_type": "code",
   "execution_count": 9,
   "id": "b284aec9-8eac-4175-a121-82577bfb816d",
   "metadata": {},
   "outputs": [
    {
     "name": "stdout",
     "output_type": "stream",
     "text": [
      "a= 76\n",
      "b= 31\n",
      "Modulo= 14\n"
     ]
    }
   ],
   "source": [
    "a =76 ; b =31 ;print(\"a=\",a) ;print(\"b=\",b) ;Modulo  = a % b ;print(\"Modulo=\",Modulo)"
   ]
  },
  {
   "cell_type": "code",
   "execution_count": 10,
   "id": "ea057201-1ffe-4fb2-91e0-4f8b4c441d0b",
   "metadata": {},
   "outputs": [
    {
     "name": "stdout",
     "output_type": "stream",
     "text": [
      "a= 4\n",
      "b= 4\n",
      "Power= 256\n"
     ]
    }
   ],
   "source": [
    "a =4 ; b =4 ;print(\"a=\",a) ;print(\"b=\",b) ;Power  = a ** b ;print(\"Power=\",Power)"
   ]
  }
 ],
 "metadata": {
  "kernelspec": {
   "display_name": "Python 3 (ipykernel)",
   "language": "python",
   "name": "python3"
  },
  "language_info": {
   "codemirror_mode": {
    "name": "ipython",
    "version": 3
   },
   "file_extension": ".py",
   "mimetype": "text/x-python",
   "name": "python",
   "nbconvert_exporter": "python",
   "pygments_lexer": "ipython3",
   "version": "3.12.7"
  }
 },
 "nbformat": 4,
 "nbformat_minor": 5
}
