{
 "cells": [
  {
   "cell_type": "code",
   "execution_count": 1,
   "id": "c82dead3-2122-4fec-ba02-a187392595f2",
   "metadata": {},
   "outputs": [
    {
     "name": "stdout",
     "output_type": "stream",
     "text": [
      "Welcome to Assignment-1\n"
     ]
    }
   ],
   "source": [
    "print(\"Welcome to Assignment-1\")"
   ]
  },
  {
   "cell_type": "code",
   "execution_count": 2,
   "id": "78c306a8-13ba-4540-81f6-363fd7c5b839",
   "metadata": {},
   "outputs": [
    {
     "name": "stdout",
     "output_type": "stream",
     "text": [
      "Num1= 10\n",
      "Num2= 30\n",
      "Add= 40\n"
     ]
    }
   ],
   "source": [
    "Num1 =10 ; Num2 =30 ;print(\"Num1=\",Num1) ;print(\"Num2=\",Num2) ;Add = Num1 + Num2\n",
    "print(\"Add=\",Add)"
   ]
  },
  {
   "cell_type": "code",
   "execution_count": 6,
   "id": "ecfbb806-59d6-42f6-bbed-c51dac11d09c",
   "metadata": {},
   "outputs": [
    {
     "name": "stdout",
     "output_type": "stream",
     "text": [
      "Find Your Body Mass Index\n"
     ]
    },
    {
     "name": "stdin",
     "output_type": "stream",
     "text": [
      "Enter your BMI: 27\n"
     ]
    },
    {
     "name": "stdout",
     "output_type": "stream",
     "text": [
      "Overweight\n"
     ]
    }
   ],
   "source": [
    "print(\"Find Your Body Mass Index\")\n",
    "\n",
    "BMI = int(input(\"Enter your BMI:\"))\n",
    "if(BMI < 16):\n",
    "    print(\"Severe Thinness\")\n",
    "elif(16 <= BMI < 17):  \n",
    "    print(\"Moderate Thinness\")\n",
    "elif(17 <= BMI < 18):  \n",
    "    print(\"Mild Thinness\")\n",
    "elif(18 <= BMI < 25):  \n",
    "    print(\"Normal\")\n",
    "elif(25 <= BMI < 30):  \n",
    "    print(\"Overweight\")\n",
    "elif(30 <= BMI < 35):  \n",
    "    print(\"Obese Class I\")\n",
    "elif(35 <= BMI < 40):  \n",
    "    print(\"Obese Class II\")\n",
    "else:  \n",
    "    print(\"Obese Class III\")"
   ]
  },
  {
   "cell_type": "code",
   "execution_count": null,
   "id": "9ac9a036-e655-4851-a4e4-0ee9f8c37a91",
   "metadata": {},
   "outputs": [],
   "source": []
  }
 ],
 "metadata": {
  "kernelspec": {
   "display_name": "Python 3 (ipykernel)",
   "language": "python",
   "name": "python3"
  },
  "language_info": {
   "codemirror_mode": {
    "name": "ipython",
    "version": 3
   },
   "file_extension": ".py",
   "mimetype": "text/x-python",
   "name": "python",
   "nbconvert_exporter": "python",
   "pygments_lexer": "ipython3",
   "version": "3.12.7"
  }
 },
 "nbformat": 4,
 "nbformat_minor": 5
}
